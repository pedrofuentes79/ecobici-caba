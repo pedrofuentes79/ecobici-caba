{
 "cells": [
  {
   "cell_type": "markdown",
   "metadata": {},
   "source": [
    "# Análisis de Datos de uso de Bicicletas 2023"
   ]
  },
  {
   "cell_type": "markdown",
   "metadata": {},
   "source": [
    "#### Imports básicos y carga de datos"
   ]
  },
  {
   "cell_type": "code",
   "execution_count": null,
   "metadata": {},
   "outputs": [],
   "source": [
    "import pandas as pd\n",
    "import numpy as np\n",
    "import matplotlib.pyplot as plt"
   ]
  },
  {
   "cell_type": "code",
   "execution_count": null,
   "metadata": {},
   "outputs": [],
   "source": [
    "df = pd.read_csv('trips_2023.csv', index_col=0)\n",
    "\n",
    "# Parseo la duracion a float\n",
    "df['duracion_recorrido'] = df['duracion_recorrido'].str.replace(',', '')\n",
    "df['duracion_recorrido'] = df['duracion_recorrido'].astype(float)\n",
    "\n",
    "df.head()"
   ]
  },
  {
   "cell_type": "code",
   "execution_count": 3,
   "metadata": {},
   "outputs": [],
   "source": [
    "# to datetime\n",
    "df['fecha_origen_recorrido'] = pd.to_datetime(df['fecha_origen_recorrido'])\n",
    "df['fecha_destino_recorrido'] = pd.to_datetime(df['fecha_destino_recorrido'])\n"
   ]
  },
  {
   "cell_type": "markdown",
   "metadata": {},
   "source": [
    "### Análisis del mapa de calor\n",
    "Estos dos mapas interactivos de origen y destino nos permiten ver la diferencia de uso de las estaciones. Son fáciles de ver y de interpretar para cualquier usuario, técnico o no.\n",
    "Esto se nota más en las zonas más céntricas de la ciudad. Tomemos como ejemplo la estación de bicicletas de Constitución.\n",
    "\n",
    "Mapa de calor de origen:\n",
    "\n",
    "<img src=\"screenshots/constitucion_origen.png\" alt=\"Texto alternativo\" width=\"500\">\n",
    "\n",
    "Mapa de calor de destino:\n",
    "\n",
    "\n",
    "<img src=\"screenshots/constitucion_destino.png\" alt=\"Texto alternativo\" width=\"500\">\n",
    "\n",
    "Podemos ver que hay muchos mas viajes registrados que **salen** de Constitución que los que **llegan**. Esto puede interesar al cliente, ya que da cuenta de los comportamientos de los usuarios de bicicletas de esa zona en particular, y puede ayudar a tomar decisiones sobre la cantidad de bicicletas que se necesitan en esa estación.\n",
    "\n",
    "\n"
   ]
  },
  {
   "cell_type": "markdown",
   "metadata": {},
   "source": [
    "## Distribución de horarios"
   ]
  },
  {
   "cell_type": "markdown",
   "metadata": {},
   "source": [
    "<img src=\"graficos/distribucion_horas_inicio_viajes.png\" alt=\"horas inicio viajes\" width=\"800\">"
   ]
  },
  {
   "cell_type": "markdown",
   "metadata": {},
   "source": [
    "Como podemos ver en el gráfico, la distribución de horarios de uso de las bicicletas está de acuerdo con nuestra intuición: alrededor de las horas de llegada y salida del trabajo, 8.00 y 17.00, hay dos picos de uso, con uno bastante más alto entre las 17 y las 19. \n",
    "Esto es interesante para el cliente, ya que puede ayudar a tomar decisiones sobre la cantidad de bicicletas que se necesitan en cada estación en cada momento del día."
   ]
  },
  {
   "cell_type": "markdown",
   "metadata": {},
   "source": [
    "## Distribución de uso en las estaciones del año.\n",
    "\n",
    "Podemos analizar en qué estaciones del año se utilizan más las bicicletas. La intuición nos dice que en invierno cae el uso, y eso nos lo confirman los datos a continuación."
   ]
  },
  {
   "cell_type": "markdown",
   "metadata": {},
   "source": [
    "<img src=\"graficos/distribucion_viajes_por_mes.png\" width=700>"
   ]
  },
  {
   "cell_type": "markdown",
   "metadata": {},
   "source": [
    "Como podemos observar, en invierno el uso cae bastante, y a medida que aumentan las temperaturas vuelve a subir. Algo importante que notar es que aún no hay datos de diciembre de este año puesto que apenas empezó, ni tampoco de noviembre pues acaba de terminar y los datos se deben estar cargando aún. Otra nota es que no hay datos de uso de septiembre en este dataset, por alguna razón que se desconoce."
   ]
  },
  {
   "cell_type": "markdown",
   "metadata": {},
   "source": [
    "## Fechas interesantes\n",
    "Un ejemplo de una fecha importante para analizar es la fecha de las elecciones generales. Como medida para fomentar que la población vaya a votar, el gobierno de la ciudad de Buenos Aires decidió que el uso de las bicicletas sea gratuito ese día. Analicemos el uso de los domingos previos en relación al domingo de las elecciones (22/10/2023). Podemos ver un artículo periodístico que da cuenta de esta información [aquí](https://www.ambito.com/informacion-general/elecciones-2023-colectivo-tren-subte-y-ecobici-gratis-ir-votar-este-domingo-n5851237)\n"
   ]
  },
  {
   "cell_type": "markdown",
   "metadata": {},
   "source": [
    "<img src=\"graficos/viajes_domingo_octubre.png\" width=800>"
   ]
  },
  {
   "cell_type": "markdown",
   "metadata": {},
   "source": [
    "Como podemos ver, el uso del 22 de octubre es el menor de todos los domingos de octubre. Esto nos indica que la gente las usó menos ese día comparado con los otros domingos. \n",
    "Aquí vemos un informe meteorológico de los últimos 15 días de octubre, para certificar que no haya llovido justo ese día y que altere el análisis. Fuente: [MeteoBlue](https://www.meteoblue.com/es/tiempo/historyclimate/weatherarchive/buenos-aires_argentina_3435910?fcstlength=15&year=2023&month=10)\n",
    "\n",
    "<img src=\"screenshots/datos_precipitaciones_ultimos_dias_octubre.png\" alt=\"info_meteorologica\" width=\"500\">\n"
   ]
  },
  {
   "cell_type": "markdown",
   "metadata": {},
   "source": [
    "También sería interesante hacer lo mismo con otras fechas en las que se realizó la misma medida, como por ejemplo en la segunda vuelta de las elecciones, pero todavía no se han publicado los datos de noviembre de 2023. \n",
    "\n",
    "Agregando a la lista de fechas importantes, los recitales de movilización masiva, como los de Taylor Swift en River. Podemos analizar también fechas de ese estilo para ver si la gente prefirió usar las bicicletas para ir a los recitales en vez de usar el transporte público o el auto, para evitar el tráfico y/o tener que estacionar por esa zona."
   ]
  },
  {
   "cell_type": "markdown",
   "metadata": {},
   "source": [
    "## Estaciones menos usadas\n",
    "El análisis de las estaciones menos usadas puede ser útil para evaluar si podría ser beneficioso cerrarlas o moverlas a otro lugar, ya que quizás acumulan bicicletas que nunca son usadas y podrían ser mejor aprovechadas en otras estaciones."
   ]
  },
  {
   "cell_type": "code",
   "execution_count": 9,
   "metadata": {},
   "outputs": [
    {
     "name": "stdout",
     "output_type": "stream",
     "text": [
      "Mediana de viajes por estación de origen: 4425.0\n",
      "Q1 de viajes por estación de origen: 2173.5\n",
      "Q3 de viajes por estación de origen: 7814.5\n"
     ]
    }
   ],
   "source": [
    "# Estaciones menos usadas\n",
    "estaciones_origen = df['nombre_estacion_origen'].value_counts()\n",
    "estaciones_destino = df['nombre_estacion_destino'].value_counts()\n",
    "\n",
    "# El análisis es con las estaciones de origen, también se puede extender a las estaciones de destino.\n",
    "# Mostrar valores útiles para tener en cuenta usos máximos y mínimos\n",
    "print(\"Mediana de viajes por estación de origen:\", estaciones_origen.median())\n",
    "print(\"Q1 de viajes por estación de origen:\", estaciones_origen.quantile(0.25))\n",
    "print(\"Q3 de viajes por estación de origen:\", estaciones_origen.quantile(0.75))\n"
   ]
  },
  {
   "cell_type": "markdown",
   "metadata": {},
   "source": [
    "<img src=\"graficos/estaciones_menos_1000_viajes.png\">"
   ]
  },
  {
   "cell_type": "markdown",
   "metadata": {},
   "source": [
    "Quedó pendiente ver el mapa de las estaciones menos usadas, lo cual sería útil para ver si están en zonas de poco tránsito o si están en zonas de mucho tránsito pero no son usadas por alguna razón."
   ]
  }
 ],
 "metadata": {
  "kernelspec": {
   "display_name": "Python 3",
   "language": "python",
   "name": "python3"
  },
  "language_info": {
   "codemirror_mode": {
    "name": "ipython",
    "version": 3
   },
   "file_extension": ".py",
   "mimetype": "text/x-python",
   "name": "python",
   "nbconvert_exporter": "python",
   "pygments_lexer": "ipython3",
   "version": "3.10.12"
  }
 },
 "nbformat": 4,
 "nbformat_minor": 2
}
